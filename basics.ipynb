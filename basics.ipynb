{
 "cells": [
  {
   "cell_type": "code",
   "execution_count": 5,
   "metadata": {},
   "outputs": [
    {
     "name": "stdout",
     "output_type": "stream",
     "text": [
      "hello world\n"
     ]
    }
   ],
   "source": [
    "print(\"hello world\")"
   ]
  },
  {
   "cell_type": "code",
   "execution_count": 6,
   "metadata": {},
   "outputs": [
    {
     "name": "stdout",
     "output_type": "stream",
     "text": [
      "indent for block\n"
     ]
    }
   ],
   "source": [
    "if 6 > 1:\n",
    "    print(\"indent for block\")"
   ]
  },
  {
   "cell_type": "code",
   "execution_count": 7,
   "metadata": {},
   "outputs": [
    {
     "name": "stdout",
     "output_type": "stream",
     "text": [
      "abc\n"
     ]
    }
   ],
   "source": [
    "# python can change variable type\n",
    "x = 6\n",
    "x = \"abc\"\n",
    "print(x)"
   ]
  },
  {
   "cell_type": "code",
   "execution_count": 8,
   "metadata": {},
   "outputs": [
    {
     "name": "stdout",
     "output_type": "stream",
     "text": [
      "ab\n",
      "5\n"
     ]
    }
   ],
   "source": [
    "# + operator\n",
    "a = \"a\"\n",
    "b = \"b\"\n",
    "print(a+b)\n",
    "\n",
    "c = 2\n",
    "d = 3\n",
    "print(c+d)"
   ]
  },
  {
   "cell_type": "code",
   "execution_count": 9,
   "metadata": {},
   "outputs": [
    {
     "name": "stdout",
     "output_type": "stream",
     "text": [
      "<class 'int'>\n",
      "<class 'float'>\n",
      "<class 'complex'>\n",
      "<class 'str'>\n"
     ]
    }
   ],
   "source": [
    "# print type of object\n",
    "a = 1\n",
    "b = 3.4\n",
    "c = 3j\n",
    "d = \"abc\"\n",
    "print(type(a))\n",
    "print(type(b))\n",
    "print(type(c))\n",
    "print(type(d))"
   ]
  },
  {
   "cell_type": "code",
   "execution_count": 13,
   "metadata": {},
   "outputs": [
    {
     "name": "stdout",
     "output_type": "stream",
     "text": [
      "1\n",
      "3\n",
      "4\n",
      "4\n",
      "<class 'str'>\n"
     ]
    }
   ],
   "source": [
    "# casting variable to type\n",
    "a = int(1)\n",
    "b = int(3.4)\n",
    "c = int(\"4\")\n",
    "d = str(4)\n",
    "print(a)\n",
    "print(b)\n",
    "print(c)\n",
    "print(d)\n",
    "print(type(d))"
   ]
  },
  {
   "cell_type": "code",
   "execution_count": 20,
   "metadata": {},
   "outputs": [
    {
     "name": "stdout",
     "output_type": "stream",
     "text": [
      "c\n",
      "cde\n",
      "abc def\n",
      "11\n",
      "['', 'abc', 'def', '']\n",
      "<class 'list'>\n"
     ]
    }
   ],
   "source": [
    "# get the characters\n",
    "s = \"abcdefghijk\"\n",
    "print(s[2])\n",
    "print(s[2:5])\n",
    "\n",
    "# remove whitespace at beginning and end\n",
    "t = \" abc def \"\n",
    "print(t.strip())\n",
    "\n",
    "# get length of string\n",
    "print(len(s))\n",
    "\n",
    "# split string\n",
    "splitStr = t.split(\" \")\n",
    "print(splitStr)\n",
    "print(type(splitStr))"
   ]
  },
  {
   "cell_type": "code",
   "execution_count": null,
   "metadata": {},
   "outputs": [],
   "source": []
  }
 ],
 "metadata": {
  "kernelspec": {
   "display_name": "Python 3",
   "language": "python",
   "name": "python3"
  },
  "language_info": {
   "codemirror_mode": {
    "name": "ipython",
    "version": 3
   },
   "file_extension": ".py",
   "mimetype": "text/x-python",
   "name": "python",
   "nbconvert_exporter": "python",
   "pygments_lexer": "ipython3",
   "version": "3.7.1"
  }
 },
 "nbformat": 4,
 "nbformat_minor": 2
}
