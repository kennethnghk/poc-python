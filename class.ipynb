{
 "cells": [
  {
   "cell_type": "code",
   "execution_count": 5,
   "metadata": {},
   "outputs": [
    {
     "name": "stdout",
     "output_type": "stream",
     "text": [
      "in the init function\n",
      "6\n",
      "10\n"
     ]
    }
   ],
   "source": [
    "# __init__() function is constructor\n",
    "class classA:    \n",
    "    x = 10\n",
    "    y = 3\n",
    "    \n",
    "    def __init__(self, a):\n",
    "        print(\"in the init function\")\n",
    "        print(a)\n",
    "        self.y = a\n",
    "    \n",
    "    def funcA():\n",
    "        print(\"in the function A\")\n",
    "    \n",
    "theClass = classA(6)\n",
    "print(theClass.x)\n",
    "theClass.funcA()"
   ]
  },
  {
   "cell_type": "code",
   "execution_count": null,
   "metadata": {},
   "outputs": [],
   "source": []
  }
 ],
 "metadata": {
  "kernelspec": {
   "display_name": "Python 3",
   "language": "python",
   "name": "python3"
  },
  "language_info": {
   "codemirror_mode": {
    "name": "ipython",
    "version": 3
   },
   "file_extension": ".py",
   "mimetype": "text/x-python",
   "name": "python",
   "nbconvert_exporter": "python",
   "pygments_lexer": "ipython3",
   "version": "3.7.1"
  }
 },
 "nbformat": 4,
 "nbformat_minor": 2
}
