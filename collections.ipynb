{
 "cells": [
  {
   "cell_type": "code",
   "execution_count": null,
   "metadata": {},
   "outputs": [],
   "source": [
    "# Ref: https://www.w3schools.com/PYTHON/python_lists.asp\n",
    "# List is a collection which is ordered and changeable. Allows duplicate members.\n",
    "# Tuple is a collection which is ordered and unchangeable. Allows duplicate members.\n",
    "# Set is a collection which is unordered and unindexed. No duplicate members.\n",
    "# Dictionary is a collection which is unordered, changeable and indexed. No duplicate members."
   ]
  },
  {
   "cell_type": "code",
   "execution_count": 7,
   "metadata": {},
   "outputs": [
    {
     "name": "stdout",
     "output_type": "stream",
     "text": [
      "['a', 'b', 'c']\n",
      "<class 'list'>\n",
      "c\n"
     ]
    }
   ],
   "source": [
    "# list, ordered and changeable\n",
    "listA = [\"a\", \"b\", \"c\"]\n",
    "print(listA)\n",
    "print(type(listA))\n",
    "print(listA[2])    "
   ]
  },
  {
   "cell_type": "code",
   "execution_count": 8,
   "metadata": {},
   "outputs": [
    {
     "name": "stdout",
     "output_type": "stream",
     "text": [
      "['a', 'b', 'd']\n"
     ]
    }
   ],
   "source": [
    "# list assignment\n",
    "listA[2] = \"d\" # cannot assign listA[3] since it does not exist\n",
    "print(listA)"
   ]
  },
  {
   "cell_type": "code",
   "execution_count": 9,
   "metadata": {},
   "outputs": [
    {
     "name": "stdout",
     "output_type": "stream",
     "text": [
      "a\n",
      "b\n",
      "d\n"
     ]
    }
   ],
   "source": [
    "# loop a list\n",
    "for x in listA:\n",
    "    print(x)"
   ]
  },
  {
   "cell_type": "code",
   "execution_count": 11,
   "metadata": {},
   "outputs": [
    {
     "name": "stdout",
     "output_type": "stream",
     "text": [
      "e not in listA\n"
     ]
    }
   ],
   "source": [
    "# check item exist in list\n",
    "if \"e\" in listA:\n",
    "    print(\"e in listA\")\n",
    "else:\n",
    "    print(\"e not in listA\")"
   ]
  },
  {
   "cell_type": "code",
   "execution_count": 12,
   "metadata": {},
   "outputs": [
    {
     "name": "stdout",
     "output_type": "stream",
     "text": [
      "3\n"
     ]
    }
   ],
   "source": [
    "# get number of list items\n",
    "print(len(listA))"
   ]
  },
  {
   "cell_type": "code",
   "execution_count": 20,
   "metadata": {},
   "outputs": [
    {
     "name": "stdout",
     "output_type": "stream",
     "text": [
      "['a', 'b', 'c', 'd']\n",
      "['a', 'e', 'b', 'c', 'd']\n"
     ]
    }
   ],
   "source": [
    "# add item to list\n",
    "listB = [\"a\", \"b\", \"c\"]\n",
    "listB.append(\"d\")\n",
    "print(listB)\n",
    "\n",
    "listB.insert(1, \"e\")\n",
    "print(listB)"
   ]
  },
  {
   "cell_type": "code",
   "execution_count": 26,
   "metadata": {},
   "outputs": [
    {
     "name": "stdout",
     "output_type": "stream",
     "text": [
      "['a', 'c', 'd', 'e', 'f', 'g', 'h', 'i', 'j']\n",
      "['a', 'c', 'd', 'e', 'f', 'g', 'h', 'i']\n",
      "['a', 'c', 'd', 'e', 'g', 'h', 'i']\n",
      "['a', 'd', 'e', 'g', 'h', 'i']\n",
      "[]\n"
     ]
    }
   ],
   "source": [
    "# remove item from list\n",
    "listC = [\"a\", \"b\", \"c\", \"d\", \"e\", \"f\", \"g\", \"h\", \"i\", \"j\"]\n",
    "listC.remove(\"b\")\n",
    "print(listC)\n",
    "\n",
    "listC.pop()\n",
    "print(listC)\n",
    "\n",
    "listC.pop(4)\n",
    "print(listC)\n",
    "\n",
    "del listC[1]\n",
    "print(listC)\n",
    "\n",
    "# empty the list\n",
    "listC.clear()\n",
    "print(listC)"
   ]
  },
  {
   "cell_type": "code",
   "execution_count": 28,
   "metadata": {},
   "outputs": [
    {
     "name": "stdout",
     "output_type": "stream",
     "text": [
      "('a', 'b', 'c')\n",
      "<class 'tuple'>\n",
      "b\n"
     ]
    }
   ],
   "source": [
    "# tuple, ordered and unchangeable\n",
    "tupleA = (\"a\", \"b\", \"c\")\n",
    "print(tupleA)\n",
    "print(type(tupleA))\n",
    "print(tupleA[1])"
   ]
  },
  {
   "cell_type": "code",
   "execution_count": 29,
   "metadata": {},
   "outputs": [
    {
     "ename": "TypeError",
     "evalue": "'tuple' object does not support item assignment",
     "output_type": "error",
     "traceback": [
      "\u001b[0;31m---------------------------------------------------------------------------\u001b[0m",
      "\u001b[0;31mTypeError\u001b[0m                                 Traceback (most recent call last)",
      "\u001b[0;32m<ipython-input-29-661e4c6a7637>\u001b[0m in \u001b[0;36m<module>\u001b[0;34m\u001b[0m\n\u001b[1;32m      1\u001b[0m \u001b[0;31m# cannot change tuple item\u001b[0m\u001b[0;34m\u001b[0m\u001b[0;34m\u001b[0m\u001b[0;34m\u001b[0m\u001b[0m\n\u001b[0;32m----> 2\u001b[0;31m \u001b[0mtupleA\u001b[0m\u001b[0;34m[\u001b[0m\u001b[0;36m1\u001b[0m\u001b[0;34m]\u001b[0m \u001b[0;34m=\u001b[0m \u001b[0;34m\"d\"\u001b[0m\u001b[0;34m\u001b[0m\u001b[0;34m\u001b[0m\u001b[0m\n\u001b[0m\u001b[1;32m      3\u001b[0m \u001b[0mprint\u001b[0m\u001b[0;34m(\u001b[0m\u001b[0mtupleA\u001b[0m\u001b[0;34m)\u001b[0m\u001b[0;34m\u001b[0m\u001b[0;34m\u001b[0m\u001b[0m\n",
      "\u001b[0;31mTypeError\u001b[0m: 'tuple' object does not support item assignment"
     ]
    }
   ],
   "source": [
    "# cannot change tuple item\n",
    "tupleA[1] = \"d\"\n",
    "print(tupleA)"
   ]
  },
  {
   "cell_type": "code",
   "execution_count": 30,
   "metadata": {},
   "outputs": [
    {
     "name": "stdout",
     "output_type": "stream",
     "text": [
      "a\n",
      "b\n",
      "c\n"
     ]
    }
   ],
   "source": [
    "# loop tuple\n",
    "for x in tupleA:\n",
    "    print(x)"
   ]
  },
  {
   "cell_type": "code",
   "execution_count": 31,
   "metadata": {},
   "outputs": [
    {
     "name": "stdout",
     "output_type": "stream",
     "text": [
      "b exists\n"
     ]
    }
   ],
   "source": [
    "# check item exist in tuple\n",
    "if \"b\" in tupleA:\n",
    "    print(\"b exists\")\n",
    "else:\n",
    "    print(\"b does not exist\")"
   ]
  },
  {
   "cell_type": "code",
   "execution_count": 33,
   "metadata": {},
   "outputs": [
    {
     "name": "stdout",
     "output_type": "stream",
     "text": [
      "3\n"
     ]
    }
   ],
   "source": [
    "# get number of tuple items\n",
    "print(len(tupleA))"
   ]
  },
  {
   "cell_type": "code",
   "execution_count": 34,
   "metadata": {},
   "outputs": [
    {
     "name": "stdout",
     "output_type": "stream",
     "text": [
      "2\n"
     ]
    }
   ],
   "source": [
    "# search the index of a value\n",
    "print(tupleA.index(\"c\"))"
   ]
  },
  {
   "cell_type": "code",
   "execution_count": 37,
   "metadata": {},
   "outputs": [
    {
     "name": "stdout",
     "output_type": "stream",
     "text": [
      "{'c', 'b', 'a'}\n",
      "<class 'set'>\n"
     ]
    }
   ],
   "source": [
    "# set, unordered (ie. items in random order) and indexed\n",
    "setA = {\"a\", \"b\", \"c\"}\n",
    "print(setA)\n",
    "print(type(setA))"
   ]
  },
  {
   "cell_type": "code",
   "execution_count": 38,
   "metadata": {},
   "outputs": [
    {
     "name": "stdout",
     "output_type": "stream",
     "text": [
      "c\n",
      "b\n",
      "a\n"
     ]
    }
   ],
   "source": [
    "# loop set items\n",
    "for x in setA:\n",
    "    print(x)"
   ]
  },
  {
   "cell_type": "code",
   "execution_count": 41,
   "metadata": {},
   "outputs": [
    {
     "name": "stdout",
     "output_type": "stream",
     "text": [
      "{'c', 'b', 'd', 'a'}\n",
      "{'c', 'd', 'e', 'g', 'b', 'f', 'a'}\n"
     ]
    }
   ],
   "source": [
    "# add item to set\n",
    "setB = {\"a\", \"b\", \"c\"}\n",
    "setB.add(\"d\")\n",
    "print(setB)\n",
    "\n",
    "# add multiple items \n",
    "setB.update([\"e\", \"f\", \"g\"])\n",
    "print(setB)"
   ]
  },
  {
   "cell_type": "code",
   "execution_count": 42,
   "metadata": {},
   "outputs": [
    {
     "name": "stdout",
     "output_type": "stream",
     "text": [
      "7\n"
     ]
    }
   ],
   "source": [
    "# get number of items\n",
    "print(len(setB))"
   ]
  },
  {
   "cell_type": "code",
   "execution_count": 43,
   "metadata": {},
   "outputs": [
    {
     "name": "stdout",
     "output_type": "stream",
     "text": [
      "{'c', 'd', 'g', 'b', 'f', 'a'}\n"
     ]
    }
   ],
   "source": [
    "# remove item\n",
    "setB.remove(\"e\") # will raise error if \"e\" does not exist\n",
    "setB.discard(\"e\") # will NOT raise error if \"e\" does not exist\n",
    "print(setB)"
   ]
  },
  {
   "cell_type": "code",
   "execution_count": null,
   "metadata": {},
   "outputs": [],
   "source": []
  }
 ],
 "metadata": {
  "kernelspec": {
   "display_name": "Python 3",
   "language": "python",
   "name": "python3"
  },
  "language_info": {
   "codemirror_mode": {
    "name": "ipython",
    "version": 3
   },
   "file_extension": ".py",
   "mimetype": "text/x-python",
   "name": "python",
   "nbconvert_exporter": "python",
   "pygments_lexer": "ipython3",
   "version": "3.7.1"
  }
 },
 "nbformat": 4,
 "nbformat_minor": 2
}
